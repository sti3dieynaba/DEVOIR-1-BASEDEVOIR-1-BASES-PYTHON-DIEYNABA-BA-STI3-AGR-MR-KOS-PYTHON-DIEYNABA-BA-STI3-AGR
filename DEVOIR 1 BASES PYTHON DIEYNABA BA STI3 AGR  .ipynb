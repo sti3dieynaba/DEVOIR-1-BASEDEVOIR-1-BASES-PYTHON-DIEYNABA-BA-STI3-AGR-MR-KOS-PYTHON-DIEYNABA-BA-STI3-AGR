{
 "cells": [
  {
   "cell_type": "code",
   "execution_count": null,
   "id": "791f5478",
   "metadata": {},
   "outputs": [],
   "source": [
    "EXERCICE 2"
   ]
  },
  {
   "cell_type": "code",
   "execution_count": 5,
   "id": "55b2d100",
   "metadata": {},
   "outputs": [
    {
     "name": "stdout",
     "output_type": "stream",
     "text": [
      "Elementcommuns: [6, 6, 8, 40]\n"
     ]
    }
   ],
   "source": [
    "#1 ecrivez une fonction qui prend deux listes en entree et renvoie une nouvelle liste contenant les elements communs aux deux liste\n",
    "def element_commun(LISTE_1,LISTE_2):\n",
    "    LISTE_3=[]\n",
    "    for i in LISTE_1:\n",
    "        for j in LISTE_2:\n",
    "            if i ==j:\n",
    "                LISTE_3.append(i)\n",
    "    return LISTE_3\n",
    "LISTE_1 = [1, 3, 5, 6, 6, 8, 28, 40,]\n",
    "LISTE_2 = [40, 47, 8, 87, 56, 9, 6, 65]\n",
    "LISTE_3 = element_commun(LISTE_1,LISTE_2)\n",
    "print(\"Elementcommuns:\",LISTE_3)"
   ]
  },
  {
   "cell_type": "code",
   "execution_count": 33,
   "id": "487ddcd5",
   "metadata": {},
   "outputs": [
    {
     "name": "stdout",
     "output_type": "stream",
     "text": [
      "veuillez saisir un nombre:55\n"
     ]
    },
    {
     "data": {
      "text/plain": [
       "'impaire'"
      ]
     },
     "execution_count": 33,
     "metadata": {},
     "output_type": "execute_result"
    }
   ],
   "source": [
    "#2 creez une fonction qui prend un nombreben entree et renvoie \"pair\" ou \"impaire\"\n",
    "def verifier_pair_impair(nombre):\n",
    "    if (nombre) %2 ==0:\n",
    "        return \"paire\"\n",
    "    else:\n",
    "        return \"impaire\"\n",
    "nombre = int(input(\"veuillez saisir un nombre:\"))\n",
    "verifier_pair_impair(nombre)\n",
    "    \n"
   ]
  },
  {
   "cell_type": "code",
   "execution_count": 18,
   "id": "c69118f5",
   "metadata": {},
   "outputs": [
    {
     "name": "stdout",
     "output_type": "stream",
     "text": [
      "50\n"
     ]
    }
   ],
   "source": [
    "#3 une fonction qui prend une liste de nombre en entree et renvoie la somme de tous les elements\n",
    "def sommeelem(liste):\n",
    "    somme=0\n",
    "    for i in liste:\n",
    "        somme=somme + i\n",
    "    return somme \n",
    "print(sommeelem([5, 10, 15, 20]))"
   ]
  },
  {
   "cell_type": "code",
   "execution_count": 19,
   "id": "09dbb187",
   "metadata": {},
   "outputs": [
    {
     "name": "stdout",
     "output_type": "stream",
     "text": [
      "['d', 'w', 'm', 's', 'k', 'r']\n"
     ]
    }
   ],
   "source": [
    "#4 creez une fonction qui prend une liste de mots en entree et renvoie une nouvelle liste contenant la premiere lettre de chaque mot\n",
    "def premierlettre(liste):\n",
    "    print([i[0] for i in liste])\n",
    "premierlettre([\"dieynaba\",\"woulimata\",\"mariatou\",\"sydieynaba\",\"khoudia\",\"racky\"])\n"
   ]
  },
  {
   "cell_type": "code",
   "execution_count": null,
   "id": "0b0c86bc",
   "metadata": {},
   "outputs": [],
   "source": [
    "#5 une fonction qui prend une chaine de caractere en entree et renvoie la meme chaine mais sans voyelles \n"
   ]
  },
  {
   "cell_type": "code",
   "execution_count": null,
   "id": "2a809ae0",
   "metadata": {},
   "outputs": [],
   "source": [
    "EXERCICE 3"
   ]
  },
  {
   "cell_type": "code",
   "execution_count": 24,
   "id": "932336bc",
   "metadata": {},
   "outputs": [
    {
     "name": "stdout",
     "output_type": "stream",
     "text": [
      "la mediane de la liste est : 4\n"
     ]
    }
   ],
   "source": [
    "#1 une liste de nombre et ecrivez une fonction qui renvoie la mediane de cette liste \n",
    "liste_nombres = [3, 1, 4, 1, 5, 9, 2, 6, 5, 3, 5]\n",
    "def calculer_mediane(liste):\n",
    "    liste_triee = sorted(liste)\n",
    "    taille = len(liste_triee)\n",
    "    if taille % 2 == 0:\n",
    "        milieu1 = liste_triee[taille // 2 - 1]\n",
    "        milieu2 = liste_triee[taille // 2]\n",
    "        msdaine = (milieu1 + milieu2) / 2\n",
    "    else:\n",
    "        mediane = liste_triee[taille // 2]\n",
    "    return mediane\n",
    "mediane = calculer_mediane(liste_nombres)\n",
    "print(\"la mediane de la liste est :\",mediane)"
   ]
  },
  {
   "cell_type": "code",
   "execution_count": 28,
   "id": "8fba5969",
   "metadata": {},
   "outputs": [
    {
     "name": "stdout",
     "output_type": "stream",
     "text": [
      "['oiseau']\n"
     ]
    }
   ],
   "source": [
    "#2 une fonction qui prend une liste de chaine de caractere  en entree et renvoie une nouvelle liste contenant seulment ls chaines de plus de 5 caractere \n",
    "def filtre_chaines_longues(liste_chaines):\n",
    "    return [chaine for chaine in liste_chaines if len(chaine) > 5]\n",
    "liste_original = [\"chat\",\"chien\",\"oiseau\"]\n",
    "nouvelle_liste = filtre_chaines_longues(liste_original)\n",
    "print(nouvelle_liste)"
   ]
  },
  {
   "cell_type": "code",
   "execution_count": 31,
   "id": "ba5e826e",
   "metadata": {},
   "outputs": [
    {
     "name": "stdout",
     "output_type": "stream",
     "text": [
      "5.4\n"
     ]
    }
   ],
   "source": [
    "#3 une liste de nombre et ecrivez un programme qui calcule la moyenne de ces nombre sans utiliser la fonction sum\n",
    "liste_nombres = [5, 8, 6, 2, 4]\n",
    "moyenne = sum(liste_nombres) / len(liste_nombres)\n",
    "print(somme/len(liste))"
   ]
  },
  {
   "cell_type": "code",
   "execution_count": 4,
   "id": "24dc2957",
   "metadata": {},
   "outputs": [
    {
     "name": "stdout",
     "output_type": "stream",
     "text": [
      "[5, 4, 3, 2, 1]\n"
     ]
    }
   ],
   "source": [
    "#4 une fonction qui prend une liste en entree et renvoie la liste inversee \n",
    "def liste_inverse(liste):\n",
    "    return liste[::-1]\n",
    "ma_liste = [1, 2, 3, 4, 5]\n",
    "inverse = liste_inverse(ma_liste)\n",
    "print(inverse)"
   ]
  },
  {
   "cell_type": "code",
   "execution_count": 16,
   "id": "efc6be91",
   "metadata": {},
   "outputs": [
    {
     "name": "stdout",
     "output_type": "stream",
     "text": [
      "Noms avec la lettre 'a : ['Jean', 'Dieynaba', 'Marie', 'Nathalie', 'Gabrielle', 'Seba', 'Pascal']\n"
     ]
    }
   ],
   "source": [
    "#5 Liste de noms et aiffichez les noms qui contiennent la lettre \"a\"\n",
    "noms = [\"Jean\",\"Dieynaba\",\"Marie\",\"Nathalie\",\"Gabrielle\",\"Seba\",\"Pascal\",\"fonction\"]\n",
    "#Afficher les noms avec la lettre \"a\"\n",
    "noms_avec_a = [nom for nom in noms if \"a\" in nom]\n",
    "print(\"Noms avec la lettre 'a :\", noms_avec_a)\n"
   ]
  },
  {
   "cell_type": "code",
   "execution_count": null,
   "id": "d8fec7a3",
   "metadata": {},
   "outputs": [],
   "source": [
    "EXERCICE 4"
   ]
  },
  {
   "cell_type": "code",
   "execution_count": 6,
   "id": "56514272",
   "metadata": {},
   "outputs": [
    {
     "name": "stdout",
     "output_type": "stream",
     "text": [
      "[1, 2, 3, 4, 5]\n"
     ]
    }
   ],
   "source": [
    "#1 une fonction qui prend une liste en entree et renvoie la liste sans les elements en doublon \n",
    "def supprimer_doublons(liste):\n",
    "    return list(set(liste))\n",
    "ma_liste = [1, 2, 2, 3, 4, 4, 5]\n",
    "nouvelle_liste = supprimer_doublons(ma_liste)\n",
    "print(nouvelle_liste)"
   ]
  },
  {
   "cell_type": "code",
   "execution_count": 8,
   "id": "9156a660",
   "metadata": {},
   "outputs": [
    {
     "name": "stdout",
     "output_type": "stream",
     "text": [
      "[2, 3, 5, 7, 11, 13, 17, 19]\n"
     ]
    }
   ],
   "source": [
    "#2 une fonction qui genere une liste de nombre premiers jusqu'a un nombre donne\n",
    "def generer_nombres_premiers(maximum):\n",
    "    primes = []\n",
    "    for num in range(2, maximum + 1):\n",
    "        is_prime = all(num % i != 0 for i in range(2, int(num**0.5) + 1))\n",
    "        if is_prime:\n",
    "            primes.append(num)\n",
    "    return primes\n",
    "limite = 20 \n",
    "liste_premiers = generer_nombres_premiers(limite)\n",
    "print(liste_premiers)"
   ]
  },
  {
   "cell_type": "code",
   "execution_count": 9,
   "id": "202d18d7",
   "metadata": {},
   "outputs": [
    {
     "name": "stdout",
     "output_type": "stream",
     "text": [
      "[3, 6, 9, 12, 15]\n"
     ]
    }
   ],
   "source": [
    "#3 un programme qui utilise la fonction map pour multiplie chaque element d'une liste par 3\n",
    "def multiplier_par_trois(element):\n",
    "    return element * 3\n",
    "liste_original = [1, 2, 3, 4, 5]\n",
    "liste_multipliee = list(map(multiplier_par_trois, liste_original))\n",
    "print(liste_multipliee)"
   ]
  },
  {
   "cell_type": "code",
   "execution_count": null,
   "id": "97447eda",
   "metadata": {},
   "outputs": [],
   "source": [
    "EXERCICE 5"
   ]
  },
  {
   "cell_type": "code",
   "execution_count": 26,
   "id": "b6d40a06",
   "metadata": {},
   "outputs": [
    {
     "name": "stdout",
     "output_type": "stream",
     "text": [
      "Ceci est un exemple de texte en francais ou en anglais.\n"
     ]
    }
   ],
   "source": [
    "#une fonction en python qui prend em entree un texte en anflais ou en fracais et qui calcule la frequences d'apparition de chaque lettre ...\n",
    "def calculer_frequences(texte):\n",
    "    #Initialiser un dictionnaire pour stocker les frequences\n",
    "    frequences = {}\n",
    "    \n",
    "    #Ignorer les caracteres qui ne sont pas des lettres \n",
    "    lettres = [c.lower() for c in texte if c.isalpha()]\n",
    "    \n",
    "    #Calculer les frequences des lettres \n",
    "    total = len(lettres)\n",
    "    for lettre in lettres:\n",
    "        frequences[lettre] = frequences.get(lettre, 0) + 1\n",
    "        \n",
    "        \n",
    "    #Comvertir les frequences en pourcentages\n",
    "    frequences = {lettre: (occurrences / total) * 100 for lettre, occurrences in frequences.items()}\n",
    "    return frequences\n",
    "texte_text = \"Ceci est un exemple de calcule_frequences.\"\n",
    "texte_text = \"Ceci est un exemple de texte en francais ou en anglais.\"\n",
    "calculer_frequences(texte_text)\n",
    "print(texte_text)\n",
    "    "
   ]
  },
  {
   "cell_type": "code",
   "execution_count": null,
   "id": "046407ad",
   "metadata": {},
   "outputs": [],
   "source": [
    "EXERCICE 1"
   ]
  },
  {
   "cell_type": "code",
   "execution_count": 27,
   "id": "260c9c13",
   "metadata": {},
   "outputs": [
    {
     "name": "stdout",
     "output_type": "stream",
     "text": [
      "[1, 2, 3, 4, 5, 6, 7, 8, 9, 10]\n",
      "2\n",
      "4\n",
      "6\n",
      "8\n",
      "10\n",
      "12\n",
      "14\n",
      "16\n",
      "18\n",
      "20\n"
     ]
    }
   ],
   "source": [
    "#1 creer un tableau de 10 nombres \n",
    "liste = []\n",
    "for i in range (1,11):\n",
    "    liste.append(i)\n",
    "print(liste)\n",
    "#multiplie de chaque nombre par 2 \n",
    "for i in liste:\n",
    "    print(i*2)"
   ]
  },
  {
   "cell_type": "code",
   "execution_count": 7,
   "id": "d76e90d9",
   "metadata": {},
   "outputs": [
    {
     "name": "stdout",
     "output_type": "stream",
     "text": [
      "8\n",
      "7\n",
      "10\n",
      "9\n",
      "8\n"
     ]
    }
   ],
   "source": [
    "#2 creez une liste de noms et afficher la longuer de chaque nom en utilisantune boucle\n",
    "liste=[\"dieynaba\",\"khoudia\",\"dieynabasy\",\"woulimata\",\"mariatou\"]\n",
    "for i in liste:\n",
    "    print(len(i))"
   ]
  },
  {
   "cell_type": "code",
   "execution_count": 11,
   "id": "fb0b7ed2",
   "metadata": {},
   "outputs": [
    {
     "name": "stdout",
     "output_type": "stream",
     "text": [
      "[1296, 4096, 10000]\n"
     ]
    }
   ],
   "source": [
    "#3 une fonction qui prend une liste de nombre en entree et renvoie la liste contenant la carre de chaque element\n",
    "def carres20pour(liste):\n",
    "    liste_carres=[]\n",
    "    for i in liste:\n",
    "        liste_carres.append(i**4)\n",
    "    return liste_carres\n",
    "print (carres20pour([6,8,10]))"
   ]
  },
  {
   "cell_type": "code",
   "execution_count": 12,
   "id": "b93befb1",
   "metadata": {},
   "outputs": [
    {
     "name": "stdout",
     "output_type": "stream",
     "text": [
      "9\n",
      "18\n",
      "16\n",
      "7\n",
      "9\n",
      "14\n",
      "7\n",
      "20\n",
      "6\n",
      "9\n",
      "20\n",
      "13\n",
      "10\n",
      "20\n"
     ]
    }
   ],
   "source": [
    "#4 une liste de nombre aleatoires et afficher seulement les nombres qui sont superieurs a 5\n",
    "import random \n",
    "liste=[random.randint(1,20) for i in range(20)]\n",
    "for i in liste:\n",
    "    if i>5:\n",
    "        print(i)"
   ]
  },
  {
   "cell_type": "code",
   "execution_count": 22,
   "id": "e60b25fb",
   "metadata": {},
   "outputs": [
    {
     "name": "stdout",
     "output_type": "stream",
     "text": [
      "une vie\n"
     ]
    }
   ],
   "source": [
    "#5 un programme qui prend une chaine de caracteres en entree et aiffier la plus longue \n",
    "liste=[\"mum\",\"amour\",\"une vie\"]\n",
    "print(max(liste, key=len))"
   ]
  }
 ],
 "metadata": {
  "kernelspec": {
   "display_name": "Python 3 (ipykernel)",
   "language": "python",
   "name": "python3"
  },
  "language_info": {
   "codemirror_mode": {
    "name": "ipython",
    "version": 3
   },
   "file_extension": ".py",
   "mimetype": "text/x-python",
   "name": "python",
   "nbconvert_exporter": "python",
   "pygments_lexer": "ipython3",
   "version": "3.9.13"
  }
 },
 "nbformat": 4,
 "nbformat_minor": 5
}
